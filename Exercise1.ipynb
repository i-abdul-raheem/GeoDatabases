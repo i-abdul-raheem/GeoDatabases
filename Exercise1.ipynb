{
 "cells": [
  {
   "cell_type": "markdown",
   "id": "66122e03",
   "metadata": {},
   "source": [
    "# Exersise 1\n",
    "\n",
    "Question 1.1: Revisiting SQL\n",
    "\n",
    "Consider the following relations, where underlined attributes are primary keys, and attributes in\n",
    "italics are foreign keys:\n",
    "\n",
    "- Community(ZIP, CName)\n",
    "- Person(Pid, PName, Age)\n",
    "- Apartment(ApartNo, ZIP, Pid, Street, HouseNo)\n",
    "\n",
    "Solve the following questions in SQL. Make sure to adhere to the given output schema if provided. For instance, the output schema (Pid, PName) is provided in e), requiring the result to\n",
    "contain at least the mentioned attributes."
   ]
  },
  {
   "cell_type": "markdown",
   "id": "0b079aaa",
   "metadata": {},
   "source": [
    "## a) \n",
    "Create the tables Community, Person, and Apartment. Assign useful data types for the corresponding attributes. Make sure that Age and HouseNo cannot be negative. Ensure the primary and foreign keys are appropriately set. Restrict every attribute from holding the NULL value, i.e., NULL values are not allowed. Finally, insert at least 5 tuples into each relation."
   ]
  },
  {
   "cell_type": "code",
   "execution_count": null,
   "id": "d73b25a8",
   "metadata": {
    "vscode": {
     "languageId": "sql"
    }
   },
   "outputs": [],
   "source": [
    "CREATE TABLE\n",
    "    Community (\n",
    "        ZIP INT NOT NULL,\n",
    "        CName TEXT NOT NULL,\n",
    "        CONSTRAINT Community_pk PRIMARY KEY (ZIP)\n",
    "    );\n",
    "\n",
    "CREATE TABLE\n",
    "    Person (\n",
    "        Pid INT NOT NULL,\n",
    "        PName TEXT NOT NULL,\n",
    "        Age INT NOT NULL,\n",
    "        CONSTRAINT Person_pk PRIMARY KEY (Pid),\n",
    "        CONSTRAINT valid_age CHECK (Age > 0)\n",
    "    );\n",
    "\n",
    "CREATE TABLE\n",
    "    Apartment (\n",
    "        ApartNo INT NOT NULL,\n",
    "        ZIP INT NOT NULL,\n",
    "        Pid INT NOT NULL,\n",
    "        Street TEXT NOT NULL,\n",
    "        HouseNo INT NOT NULL,\n",
    "        CONSTRAINT valid_house CHECK (HouseNo > 0),\n",
    "        CONSTRAINT Apartment_pk PRIMARY KEY (ApartNo),\n",
    "        CONSTRAINT Apartment_Community_fk FOREIGN KEY (ZIP) REFERENCES Community (ZIP),\n",
    "        CONSTRAINT Apartment_Person_fk FOREIGN KEY (Pid) REFERENCES Person (Pid)\n",
    "    );\n",
    "\n",
    "INSERT INTO\n",
    "    Community (ZIP, CName)\n",
    "VALUES\n",
    "    (10115, 'Berlin-Mitte'),\n",
    "    (20095, 'Hamburg-Altstadt'),\n",
    "    (50667, 'Cologne-Center'),\n",
    "    (80331, 'Munich-Altstadt'),\n",
    "    (60311, 'Frankfurt-Center');\n",
    "\n",
    "INSERT INTO\n",
    "    Person (Pid, PName, Age)\n",
    "VALUES\n",
    "    (1, 'Anna Schmidt', 29),\n",
    "    (2, 'Max Müller', 35),\n",
    "    (3, 'Sophie Keller', 22),\n",
    "    (4, 'Jonas Becker', 41),\n",
    "    (5, 'Lea Fischer', 27);\n",
    "\n",
    "INSERT INTO\n",
    "    Apartment (ApartNo, ZIP, Pid, Street, HouseNo)\n",
    "VALUES\n",
    "    (1001, 10115, 1, 'Unter den Linden', 12),\n",
    "    (1002, 20095, 2, 'Mönckebergstraße', 45),\n",
    "    (1003, 50667, 3, 'Hohe Straße', 7),\n",
    "    (1004, 80331, 4, 'Marienplatz', 3),\n",
    "    (1005, 60311, 5, 'Zeil', 88);"
   ]
  },
  {
   "cell_type": "markdown",
   "id": "01e7ad13",
   "metadata": {},
   "source": [
    "## b)\n",
    "Create the table Land, and then delete it"
   ]
  },
  {
   "cell_type": "code",
   "execution_count": null,
   "id": "a2ab0fbf",
   "metadata": {
    "vscode": {
     "languageId": "sql"
    }
   },
   "outputs": [],
   "source": [
    "CREATE TABLE Land (\n",
    "    id INT\n",
    ");\n",
    "\n",
    "DROP TABLE Land;"
   ]
  },
  {
   "cell_type": "markdown",
   "id": "02136bbe",
   "metadata": {},
   "source": [
    "## c)\n",
    "Increase the age of every person that is older than 18 by one."
   ]
  },
  {
   "cell_type": "code",
   "execution_count": null,
   "id": "2222aaeb",
   "metadata": {
    "vscode": {
     "languageId": "sql"
    }
   },
   "outputs": [],
   "source": [
    "UPDATE Person\n",
    "SET\n",
    "    age = age + 1\n",
    "WHERE\n",
    "    age > 18;"
   ]
  },
  {
   "cell_type": "markdown",
   "id": "369b64d8",
   "metadata": {},
   "source": [
    "## d)\n",
    "Delete every apartment in the street Bahnhofstraße with ZIP code 35037."
   ]
  },
  {
   "cell_type": "code",
   "execution_count": null,
   "id": "976c1607",
   "metadata": {
    "vscode": {
     "languageId": "sql"
    }
   },
   "outputs": [],
   "source": [
    "DELETE FROM Apartment\n",
    "WHERE\n",
    "    Street = 'Bahnhofstraße'\n",
    "    AND ZIP = 35037;"
   ]
  },
  {
   "cell_type": "markdown",
   "id": "bfad9784",
   "metadata": {},
   "source": [
    "## e) \n",
    "Who is older than 18?\n",
    "###### Schema: (Pid, PName)"
   ]
  },
  {
   "cell_type": "code",
   "execution_count": null,
   "id": "e11c1aa1",
   "metadata": {
    "vscode": {
     "languageId": "sql"
    }
   },
   "outputs": [],
   "source": [
    "SELECT Pid, PName\n",
    "FROM\n",
    "    Person\n",
    "WHERE\n",
    "    Age > 18;"
   ]
  },
  {
   "cell_type": "markdown",
   "id": "d741f676",
   "metadata": {},
   "source": [
    "## f)\n",
    "For which community names is there at least one apartment in the street Hauptstraße?\n",
    "###### Schema: (CName)"
   ]
  },
  {
   "cell_type": "code",
   "execution_count": null,
   "id": "90a4b17a",
   "metadata": {
    "vscode": {
     "languageId": "sql"
    }
   },
   "outputs": [],
   "source": [
    "SELECT\n",
    "    c.CName AS CName\n",
    "FROM\n",
    "    Community c\n",
    "WHERE\n",
    "    EXISTS (\n",
    "        SELECT\n",
    "            1\n",
    "        FROM\n",
    "            Apartment a\n",
    "        WHERE\n",
    "            a.ZIP = c.ZIP\n",
    "            AND a.Street = 'Hauptstraße'\n",
    "    );"
   ]
  },
  {
   "cell_type": "markdown",
   "id": "52832657",
   "metadata": {},
   "source": [
    "## g) \n",
    "How many apartments are there in the community named Marburg?\n",
    "###### Schema: (NumberOfApartments)"
   ]
  },
  {
   "cell_type": "code",
   "execution_count": null,
   "id": "ebc185d3",
   "metadata": {
    "vscode": {
     "languageId": "sql"
    }
   },
   "outputs": [],
   "source": [
    "SELECT\n",
    "    COUNT(*) AS NumberOfApartments\n",
    "FROM\n",
    "    Apartment a\n",
    "WHERE\n",
    "    a.ZIP IN (\n",
    "        SELECT\n",
    "            c.ZIP\n",
    "        FROM\n",
    "            Community c\n",
    "        WHERE\n",
    "            c.CName = 'Marburg'\n",
    "    );"
   ]
  },
  {
   "cell_type": "markdown",
   "id": "a8f2902c",
   "metadata": {},
   "source": [
    "## h) \n",
    "How old are the people owning apartments on average per community? Sort the output in\n",
    "ascending order by average age.\n",
    "###### Schema: (ZIP, AverageAge)"
   ]
  },
  {
   "cell_type": "code",
   "execution_count": null,
   "id": "813e20f9",
   "metadata": {
    "vscode": {
     "languageId": "sql"
    }
   },
   "outputs": [],
   "source": [
    "SELECT\n",
    "    a.ZIP,\n",
    "    AVG(p.Age) AS AverageAge\n",
    "FROM\n",
    "    Apartment a\n",
    "JOIN\n",
    "    Person p\n",
    "ON\n",
    "    a.Pid = p.Pid\n",
    "GROUP BY\n",
    "    a.ZIP\n",
    "ORDER BY\n",
    "    AVG(p.Age);"
   ]
  },
  {
   "cell_type": "markdown",
   "id": "df4e70fb",
   "metadata": {},
   "source": [
    "## i)\n",
    "Who owns an above-average number of apartments?\n",
    "###### Schema: (Pid, PName)"
   ]
  },
  {
   "cell_type": "code",
   "execution_count": null,
   "id": "bfeb1a66",
   "metadata": {
    "vscode": {
     "languageId": "sql"
    }
   },
   "outputs": [],
   "source": [
    "SELECT\n",
    "    p.Pid,\n",
    "    p.PName,\n",
    "    COUNT(a.ApartNo) AS NumApartments\n",
    "FROM\n",
    "    Person p\n",
    "    JOIN Apartment a ON p.Pid = a.Pid\n",
    "GROUP BY\n",
    "    p.Pid,\n",
    "    p.PName\n",
    "HAVING\n",
    "    COUNT(a.ApartNo) > (\n",
    "        SELECT\n",
    "            AVG(apartment_count)\n",
    "        FROM\n",
    "            (\n",
    "                SELECT\n",
    "                    COUNT(*) AS apartment_count\n",
    "                FROM\n",
    "                    Apartment\n",
    "                GROUP BY\n",
    "                    Pid\n",
    "            ) sub\n",
    "    )\n",
    "ORDER BY\n",
    "    NumApartments DESC;"
   ]
  },
  {
   "cell_type": "markdown",
   "id": "e85900f5",
   "metadata": {},
   "source": [
    "# Question 1.2: Geometries\n",
    "This question requires you to implement various geometric structures and functionalities in\n",
    "PostgreSQL without PostGIS"
   ]
  },
  {
   "cell_type": "markdown",
   "id": "faa8141f",
   "metadata": {},
   "source": [
    "## a) \n",
    "Create a new type named PointType. This type represents a point comprising two coordinates x and y, which are of type NUMERIC."
   ]
  },
  {
   "cell_type": "code",
   "execution_count": null,
   "id": "7ea0fddb",
   "metadata": {
    "vscode": {
     "languageId": "plaintext"
    }
   },
   "outputs": [],
   "source": []
  },
  {
   "cell_type": "markdown",
   "id": "99c8ba71",
   "metadata": {},
   "source": [
    "## b)\n",
    "Create a new table Rectangle to store axis-aligned rectangles. An axis-aligned rectangle is identified by its primary key id, and contains two points of type PointType. Ensure the following constraints are satisfied:\n",
    "- The first point is the bottom left corner of the rectangle.\n",
    "- The second point is the top right corner of the rectangle.\n",
    "- A rectangle can be created using the two points given."
   ]
  },
  {
   "cell_type": "code",
   "execution_count": null,
   "id": "59501f18",
   "metadata": {
    "vscode": {
     "languageId": "plaintext"
    }
   },
   "outputs": [],
   "source": []
  },
  {
   "cell_type": "markdown",
   "id": "f21be40b",
   "metadata": {},
   "source": [
    "## c)\n",
    "Create a new table named Triangle. A triangle is identified by its primary key id, and contains three points of type PointType. Ensure a valid triangle can be created using the three points provided, i.e., they do not degenerate into a line."
   ]
  },
  {
   "cell_type": "code",
   "execution_count": null,
   "id": "0f5eb1a2",
   "metadata": {
    "vscode": {
     "languageId": "plaintext"
    }
   },
   "outputs": [],
   "source": []
  },
  {
   "cell_type": "markdown",
   "id": "484ef273",
   "metadata": {},
   "source": [
    "## d)\n",
    "Connect to your database using Python. Solve the following questions using python with the psycopg package and a jupyter-notebook (You can pass SQL code as string to the curser.execute() function.\n",
    "- Insert at least five tuples into each relation Rectangle and Triangle. Make sure you insert at least one square, one right-angled triangle, and one isosceles triangle.\n",
    "- Query all rectangles. Iterate through the result, and if the current rectangle is a square, print it to the console.\n",
    "- Query all triangles. Iterate through the result, and if the current triangle is right-angled or isosceles, print it to the console."
   ]
  },
  {
   "cell_type": "code",
   "execution_count": null,
   "id": "e7e18d1c",
   "metadata": {
    "vscode": {
     "languageId": "plaintext"
    }
   },
   "outputs": [],
   "source": []
  },
  {
   "cell_type": "markdown",
   "id": "5c60ee7a",
   "metadata": {},
   "source": [
    "## e)\n",
    "Implement the following topological relationships of two rectangles r1 and r2 in Python:\n",
    "- equals(r1, r2): checks whether the rectangle r1 equals the rectangle r2, i.e., it checks if the points in r1 are equal to the ones in r2.\n",
    "- inside(r1, r2): checks if the rectangle r1 is contained in the rectangle r2.\n",
    "- intersects_not_inside(r1, r2): checks if rectangles r1 and r2 intersect. Note that in case a rectangle r1 is contained in another rectangle r2 or vice-versa, then this method returns False.\n",
    "- disjoint(r1,r2): checks whether the two rectangles r1, and r2 are disjoint."
   ]
  },
  {
   "cell_type": "code",
   "execution_count": null,
   "id": "f6034fc3",
   "metadata": {
    "vscode": {
     "languageId": "plaintext"
    }
   },
   "outputs": [],
   "source": []
  }
 ],
 "metadata": {
  "language_info": {
   "name": "python"
  }
 },
 "nbformat": 4,
 "nbformat_minor": 5
}
