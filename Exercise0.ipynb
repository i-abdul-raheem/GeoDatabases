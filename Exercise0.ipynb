{
 "cells": [
  {
   "cell_type": "markdown",
   "id": "9491cc83",
   "metadata": {},
   "source": [
    "# Exercise 0"
   ]
  },
  {
   "cell_type": "code",
   "execution_count": 1,
   "id": "31a1862b",
   "metadata": {},
   "outputs": [],
   "source": [
    "import psycopg2\n",
    "\n",
    "pg_connection_dict = {\n",
    "    'dbname': 'GeoDB',\n",
    "    'user': 'postgres',\n",
    "    'password': '1234',\n",
    "    'port': 5432,\n",
    "    'host': 'localhost'\n",
    "}\n",
    "\n",
    "connection = psycopg2.connect(**pg_connection_dict)\n",
    "cursor = connection.cursor()"
   ]
  },
  {
   "cell_type": "markdown",
   "id": "cebcb22b",
   "metadata": {},
   "source": [
    "# Q1:\n",
    "#### Create a new database called vmarkets and activate/select it"
   ]
  },
  {
   "cell_type": "code",
   "execution_count": 2,
   "id": "6ef25e19",
   "metadata": {},
   "outputs": [],
   "source": [
    "connection.autocommit = True\n",
    "cursor.execute(\"CREATE DATABASE vmarkets;\")\n",
    "connection.autocommit = False\n",
    "connection.close()\n",
    "pg_connection_dict['dbname'] = 'vmarkets'\n",
    "connection = psycopg2.connect(**pg_connection_dict)\n",
    "cursor = connection.cursor()"
   ]
  },
  {
   "cell_type": "markdown",
   "id": "93f598f5",
   "metadata": {},
   "source": [
    "# Q2\n",
    "#### In vmarkets, create the following table/relation via SQL (in pgAdmin, the query tool): vegetables(v_id, v_type)"
   ]
  },
  {
   "cell_type": "code",
   "execution_count": 4,
   "id": "5e884097",
   "metadata": {},
   "outputs": [],
   "source": [
    "cursor.execute(\"\"\"\n",
    "    CREATE TABLE IF NOT EXISTS vegetables (\n",
    "        v_id INT,\n",
    "        v_type TEXT,\n",
    "        CONSTRAINT vegetables_pk PRIMARY KEY (v_id)\n",
    "    );\n",
    "\"\"\")\n",
    "connection.commit()"
   ]
  },
  {
   "cell_type": "markdown",
   "id": "220ae764",
   "metadata": {},
   "source": [
    "# Q3\n",
    "#### Insert the tuples (’Tomatos’, 1) and (’Salad’, 2) into vegetables."
   ]
  },
  {
   "cell_type": "code",
   "execution_count": 5,
   "id": "9527de07",
   "metadata": {},
   "outputs": [],
   "source": [
    "data = [\n",
    "    (\"Tomatos\", 1),\n",
    "    (\"Salad\", 2)\n",
    "]\n",
    "cursor.executemany(\"\"\"\n",
    "    INSERT INTO vegetables (v_type, v_id)\n",
    "    VALUES (%s, %s);\n",
    "\"\"\", data)\n",
    "\n",
    "connection.commit()"
   ]
  },
  {
   "cell_type": "markdown",
   "id": "931bbf88",
   "metadata": {},
   "source": [
    "# Q4\n",
    "#### Now, why can’t you insert the tuple (’Taters’, 2)? Make the necessary adjustment to insert ’Taters’."
   ]
  },
  {
   "cell_type": "code",
   "execution_count": 6,
   "id": "d3d29128",
   "metadata": {},
   "outputs": [],
   "source": [
    "cursor.execute(\"\"\"\n",
    "    INSERT INTO vegetables (v_type, v_id)\n",
    "    VALUES ('Taters', 3);\n",
    "\"\"\")\n",
    "connection.commit()"
   ]
  },
  {
   "cell_type": "markdown",
   "id": "d1223f20",
   "metadata": {},
   "source": [
    "# Q5\n",
    "#### Create a file additional_vegetables.csv and write down a valid tuple in .csv format, e.g., Cucumbers, 4. If you are using docker, make sure to locate the file in an accessible directory specified in the docker-compose.yml (e.g., external_data, as discussed)."
   ]
  },
  {
   "cell_type": "code",
   "execution_count": 7,
   "id": "4f500b3c",
   "metadata": {},
   "outputs": [],
   "source": [
    "data = [\n",
    "    ['Cucumbers', 4],\n",
    "    ['Potato', 5],\n",
    "    ['Onion', 6]\n",
    "]\n",
    "\n",
    "with open(\"additional_vegetables.csv\", \"w\") as file:\n",
    "    for item in data:\n",
    "        file.write(f\"{item[0]}, {item[1]}\\n\")"
   ]
  },
  {
   "cell_type": "markdown",
   "id": "d0217395",
   "metadata": {},
   "source": [
    "# Q6\n",
    "#### Use an SQL query to insert the data from the .csv file into the table vegetables.\n"
   ]
  },
  {
   "cell_type": "code",
   "execution_count": 8,
   "id": "d98f44e4",
   "metadata": {},
   "outputs": [],
   "source": [
    "cursor.execute(\"\"\"\n",
    "    COPY vegetables(v_type, v_id)\n",
    "    FROM '/Users/abdulraheem/Documents/GeoDB/additional_vegetables.csv'\n",
    "    WITH (FORMAT csv, HEADER false)\n",
    "\"\"\")\n",
    "connection.commit()"
   ]
  },
  {
   "cell_type": "markdown",
   "id": "5b1aa289",
   "metadata": {},
   "source": [
    "# Q7\n",
    "#### Create a file markets.csv with the content:\n",
    "##### market_name, market_id\n",
    "##### rewe, 1\n",
    "##### tegut, 2"
   ]
  },
  {
   "cell_type": "code",
   "execution_count": 9,
   "id": "0d27a2f8",
   "metadata": {},
   "outputs": [],
   "source": [
    "with open(\"markets.csv\", \"w\") as file:\n",
    "    data = [\n",
    "        ('market_name', 'market_id'),\n",
    "        ('rewe', 1),\n",
    "        ('tegut', 2)\n",
    "    ]\n",
    "    for item in data:\n",
    "        file.write(f\"{item[0]}, {item[1]}\\n\")"
   ]
  },
  {
   "cell_type": "markdown",
   "id": "038e99cd",
   "metadata": {},
   "source": [
    "# Q8\n",
    "#### Create a foreign table markets_csv with direct access to markets.csv "
   ]
  },
  {
   "cell_type": "code",
   "execution_count": 10,
   "id": "33405cba",
   "metadata": {},
   "outputs": [],
   "source": [
    "ENABLE_EXTENSION = \"CREATE EXTENSION IF NOT EXISTS file_fdw;\"\n",
    "CREATE_FOREIGN_SERVER = \"CREATE SERVER csv_server FOREIGN DATA WRAPPER file_fdw;\"\n",
    "CREATE_FOREIGN_TABLE = \"\"\"\n",
    "    CREATE FOREIGN TABLE markets_csv (\n",
    "        market_name TEXT,\n",
    "        market_id INT\n",
    "    )\n",
    "    SERVER csv_server\n",
    "    OPTIONS (filename '/Users/abdulraheem/Documents/GeoDB/markets.csv', format 'csv', header 'true');\n",
    "\"\"\"\n",
    "cursor.execute(ENABLE_EXTENSION)\n",
    "cursor.execute(CREATE_FOREIGN_SERVER)\n",
    "cursor.execute(CREATE_FOREIGN_TABLE)\n",
    "connection.commit()"
   ]
  },
  {
   "cell_type": "markdown",
   "id": "15fe2013",
   "metadata": {},
   "source": [
    "# Q9\n",
    "#### Add a column m_id to the table vegetables."
   ]
  },
  {
   "cell_type": "code",
   "execution_count": null,
   "id": "75268888",
   "metadata": {},
   "outputs": [],
   "source": [
    "ALTER_TABLE = \"\"\"\n",
    "    ALTER TABLE vegetables\n",
    "    ADD COLUMN m_id INT;\n",
    "\"\"\"\n",
    "cursor.execute(ALTER_TABLE)\n",
    "connection.commit()"
   ]
  },
  {
   "cell_type": "markdown",
   "id": "8fcd34b3",
   "metadata": {},
   "source": [
    "# Q10\n",
    "#### Set vegetables.m_id to 1 for some tuples and 2 for the others."
   ]
  },
  {
   "cell_type": "code",
   "execution_count": 13,
   "id": "ff05c28a",
   "metadata": {},
   "outputs": [],
   "source": [
    "GET_ALL_VEGGIES = \"SELECT * FROM vegetables\"\n",
    "UPDATE_QUERY = \"UPDATE vegetables SET m_id = {} WHERE v_id = {}\"\n",
    "cursor.execute(GET_ALL_VEGGIES)\n",
    "veggeis = cursor.fetchall()\n",
    "for n in range(len(veggeis) + 1):\n",
    "    cursor.execute(UPDATE_QUERY.format(n%2 + 1, n))\n",
    "connection.commit()"
   ]
  },
  {
   "cell_type": "markdown",
   "id": "28020539",
   "metadata": {},
   "source": [
    "# Q11\n",
    "#### We want to add a foreign key constraint to vegetables. Why does\n",
    "###### ALTER TABLE vegetables\n",
    "###### ADD CONSTRAINT fk_veggies_markets\n",
    "###### FOREIGN KEY ( m_id )\n",
    "###### REFERENCES markets ( m_id ) ;\n",
    "#### not work?"
   ]
  },
  {
   "cell_type": "markdown",
   "id": "cc7c2e53",
   "metadata": {},
   "source": [
    "Because markets does not exist"
   ]
  },
  {
   "cell_type": "markdown",
   "id": "a4299d74",
   "metadata": {},
   "source": [
    "# Q12\n",
    "#### Create a table markets with the content of markets_csv."
   ]
  },
  {
   "cell_type": "code",
   "execution_count": 14,
   "id": "f718facf",
   "metadata": {},
   "outputs": [],
   "source": [
    "CREATE_MARKETS_TABLE = \"\"\"\n",
    "    CREATE TABLE markets AS\n",
    "    SELECT *\n",
    "    FROM markets_csv;\n",
    "\"\"\"\n",
    "cursor.execute(CREATE_MARKETS_TABLE)\n",
    "connection.commit()"
   ]
  },
  {
   "cell_type": "markdown",
   "id": "a66e4cc7",
   "metadata": {},
   "source": [
    "# Q13\n",
    "#### Now, why does\n",
    "###### ALTER TABLE vegetables\n",
    "###### ADD CONSTRAINT fk_veggies_markets\n",
    "###### FOREIGN KEY ( m_id )\n",
    "###### REFERENCES markets ( m_id ) ;\n",
    "#### still not work?"
   ]
  },
  {
   "cell_type": "code",
   "execution_count": 19,
   "id": "83aabf64",
   "metadata": {},
   "outputs": [],
   "source": [
    "ALTER_TABLE = \"\"\"\n",
    "    ALTER TABLE vegetables\n",
    "    ADD CONSTRAINT fk_veggies_markets\n",
    "    FOREIGN KEY ( m_id )\n",
    "    REFERENCES markets ( market_id ) ;\n",
    "\"\"\"\n",
    "cursor.execute(ALTER_TABLE)\n",
    "connection.commit()"
   ]
  },
  {
   "cell_type": "markdown",
   "id": "32dd759a",
   "metadata": {},
   "source": [
    "InvalidForeignKey: there is no unique constraint matching given keys for referenced table \"markets\""
   ]
  },
  {
   "cell_type": "markdown",
   "id": "80b8944f",
   "metadata": {},
   "source": [
    "# Q14\n",
    "#### Solve the problem by altering the table markets accordingly and add the foreign key referencing markets.m_id to vegetables"
   ]
  },
  {
   "cell_type": "code",
   "execution_count": 18,
   "id": "bbde178a",
   "metadata": {},
   "outputs": [],
   "source": [
    "ALTER_TABLE = \"\"\"\n",
    "    ALTER TABLE markets\n",
    "    ADD CONSTRAINT markets_pk PRIMARY KEY (market_id);\n",
    "\"\"\"\n",
    "cursor.execute(ALTER_TABLE)\n",
    "connection.commit()"
   ]
  },
  {
   "cell_type": "markdown",
   "id": "2855c5e0",
   "metadata": {},
   "source": [
    "# Q15\n",
    "#### Output the names of all markets and the number of vegetables present at each market (use the GROUP BY clause and an aggregate function)"
   ]
  },
  {
   "cell_type": "code",
   "execution_count": 20,
   "id": "16e0295c",
   "metadata": {},
   "outputs": [
    {
     "name": "stdout",
     "output_type": "stream",
     "text": [
      "[('tegut', 3), ('rewe', 3)]\n"
     ]
    }
   ],
   "source": [
    "GET_ALL_MARKETS = \"\"\"\n",
    "    SELECT m.market_name, COUNT(v.v_id) as vegetable_count\n",
    "    FROM markets m\n",
    "    LEFT JOIN vegetables v\n",
    "        ON v.m_id = m.market_id\n",
    "    GROUP BY m.market_name\n",
    "\"\"\"\n",
    "cursor.execute(GET_ALL_MARKETS)\n",
    "markets = cursor.fetchall()\n",
    "print(markets)"
   ]
  },
  {
   "cell_type": "markdown",
   "id": "9d405152",
   "metadata": {},
   "source": [
    "# Q16\n",
    "#### Print only those markets having at least 2 vegetables."
   ]
  },
  {
   "cell_type": "code",
   "execution_count": 21,
   "id": "9c72cf9b",
   "metadata": {},
   "outputs": [
    {
     "name": "stdout",
     "output_type": "stream",
     "text": [
      "[('tegut', 3), ('rewe', 3)]\n"
     ]
    }
   ],
   "source": [
    "GET_ALL_MARKETS_2 = \"\"\"\n",
    "    SELECT m.market_name, COUNT(v.v_id) as vegetable_count\n",
    "    FROM markets m\n",
    "    LEFT JOIN vegetables v\n",
    "        ON v.m_id = m.market_id\n",
    "    GROUP BY m.market_name\n",
    "    HAVING COUNT(v.v_id) >= 2\n",
    "\"\"\"\n",
    "cursor.execute(GET_ALL_MARKETS_2)\n",
    "markets = cursor.fetchall()\n",
    "print(markets)"
   ]
  },
  {
   "cell_type": "markdown",
   "id": "022552cd",
   "metadata": {},
   "source": [
    "# Q17\n",
    "#### Create a new type called point2d, where a point consist of an id, an x-coordinate and a y-coordinate."
   ]
  },
  {
   "cell_type": "code",
   "execution_count": 34,
   "id": "4970186f",
   "metadata": {},
   "outputs": [],
   "source": [
    "CREATE_POINT_TYPE = \"\"\"\n",
    "    CREATE TYPE point2d AS (\n",
    "        id INT,\n",
    "        x DOUBLE PRECISION,\n",
    "        y DOUBLE PRECISION\n",
    "    )\n",
    "\"\"\"\n",
    "cursor.execute(CREATE_POINT_TYPE)\n",
    "connection.commit()"
   ]
  },
  {
   "cell_type": "markdown",
   "id": "8fe93fa0",
   "metadata": {},
   "source": [
    "# Q18\n",
    "#### Extend the table markets to include a column loc of type point2d. Update the table such that each market has a valid location of type point2d."
   ]
  },
  {
   "cell_type": "code",
   "execution_count": 41,
   "id": "c95a96ea",
   "metadata": {},
   "outputs": [],
   "source": [
    "ALTER_TABLE = \"\"\"\n",
    "    ALTER TABLE markets\n",
    "    ADD COLUMN loc point2d\n",
    "\"\"\"\n",
    "cursor.execute(ALTER_TABLE)\n",
    "\n",
    "UPDATE_QUERY = \"\"\"\n",
    "    UPDATE markets\n",
    "    SET loc = ({}, {}, {})\n",
    "\"\"\"\n",
    "update_data = [\n",
    "    {'id': 1, 'x': 2.12, 'y': 3.22},\n",
    "    {'id': 2, 'x': 5.12, 'y': 4.22}\n",
    "]\n",
    "for loc in update_data:\n",
    "    cursor.execute(UPDATE_QUERY.format(loc['id'], loc['x'], loc['y']))\n",
    "connection.commit()"
   ]
  },
  {
   "cell_type": "markdown",
   "id": "4eb9c61c",
   "metadata": {},
   "source": [
    "# Q19\n",
    "#### Extra: Write a function called euclidean_distance that returns the euclidean distance of 2 points."
   ]
  },
  {
   "cell_type": "code",
   "execution_count": 48,
   "id": "e1c4f93c",
   "metadata": {},
   "outputs": [],
   "source": [
    "CREATE_FUNCTION = \"\"\"\n",
    "    CREATE OR REPLACE FUNCTION euclidean_distance (p1 point2d, p2 point2d)\n",
    "    RETURNS DOUBLE PRECISION AS $$\n",
    "    BEGIN\n",
    "        RETURN sqrt(power(p1.x - p2.x, 2) + power(p1.y - p2.y, 2));\n",
    "    END;\n",
    "    $$ LANGUAGE plpgsql IMMUTABLE;\n",
    "\"\"\"\n",
    "cursor.execute(CREATE_FUNCTION)\n",
    "connection.commit()"
   ]
  }
 ],
 "metadata": {
  "kernelspec": {
   "display_name": ".venv (3.10.14)",
   "language": "python",
   "name": "python3"
  },
  "language_info": {
   "codemirror_mode": {
    "name": "ipython",
    "version": 3
   },
   "file_extension": ".py",
   "mimetype": "text/x-python",
   "name": "python",
   "nbconvert_exporter": "python",
   "pygments_lexer": "ipython3",
   "version": "3.10.14"
  }
 },
 "nbformat": 4,
 "nbformat_minor": 5
}
